{
  "cells": [
    {
      "cell_type": "code",
      "execution_count": 1,
      "metadata": {
        "id": "7b5pVbVQe-Wh"
      },
      "outputs": [],
      "source": [
        "import numpy as np \n",
        "import pandas as pd"
      ]
    },
    {
      "cell_type": "code",
      "execution_count": 2,
      "metadata": {
        "id": "OFeAiXp3e-XH"
      },
      "outputs": [],
      "source": [
        "\n",
        "from matplotlib import pyplot\n",
        "\n",
        "from sklearn.model_selection import train_test_split\n",
        "from sklearn.preprocessing import LabelEncoder\n",
        "from sklearn.metrics import classification_report\n",
        "from keras.utils import np_utils\n",
        "import tensorflow as tf\n",
        "from tensorflow.keras import optimizers\n",
        "from tensorflow.keras.datasets import mnist\n",
        "from tensorflow.keras.models import Sequential\n",
        "from tensorflow.keras.layers import Flatten, Dense, Conv2D, MaxPooling2D\n",
        "from tensorflow.keras.layers import Dropout, BatchNormalization, LeakyReLU, Activation\n",
        "from tensorflow.keras.callbacks import Callback, EarlyStopping, ReduceLROnPlateau\n",
        "from tensorflow.keras.preprocessing.image import ImageDataGenerator"
      ]
    },
    {
      "cell_type": "code",
      "execution_count": 4,
      "metadata": {
        "colab": {
          "base_uri": "https://localhost:8080/",
          "height": 212
        },
        "id": "qqt5PG3qe-Xs",
        "outputId": "2927556b-0d39-4382-a858-be896c21be55"
      },
      "outputs": [
        {
          "name": "stdout",
          "output_type": "stream",
          "text": [
            "(35887, 3)\n"
          ]
        },
        {
          "data": {
            "text/html": [
              "<div>\n",
              "<style scoped>\n",
              "    .dataframe tbody tr th:only-of-type {\n",
              "        vertical-align: middle;\n",
              "    }\n",
              "\n",
              "    .dataframe tbody tr th {\n",
              "        vertical-align: top;\n",
              "    }\n",
              "\n",
              "    .dataframe thead th {\n",
              "        text-align: right;\n",
              "    }\n",
              "</style>\n",
              "<table border=\"1\" class=\"dataframe\">\n",
              "  <thead>\n",
              "    <tr style=\"text-align: right;\">\n",
              "      <th></th>\n",
              "      <th>emotion</th>\n",
              "      <th>pixels</th>\n",
              "      <th>Usage</th>\n",
              "    </tr>\n",
              "  </thead>\n",
              "  <tbody>\n",
              "    <tr>\n",
              "      <th>0</th>\n",
              "      <td>0</td>\n",
              "      <td>70 80 82 72 58 58 60 63 54 58 60 48 89 115 121...</td>\n",
              "      <td>Training</td>\n",
              "    </tr>\n",
              "    <tr>\n",
              "      <th>1</th>\n",
              "      <td>0</td>\n",
              "      <td>151 150 147 155 148 133 111 140 170 174 182 15...</td>\n",
              "      <td>Training</td>\n",
              "    </tr>\n",
              "    <tr>\n",
              "      <th>2</th>\n",
              "      <td>2</td>\n",
              "      <td>231 212 156 164 174 138 161 173 182 200 106 38...</td>\n",
              "      <td>Training</td>\n",
              "    </tr>\n",
              "    <tr>\n",
              "      <th>3</th>\n",
              "      <td>4</td>\n",
              "      <td>24 32 36 30 32 23 19 20 30 41 21 22 32 34 21 1...</td>\n",
              "      <td>Training</td>\n",
              "    </tr>\n",
              "    <tr>\n",
              "      <th>4</th>\n",
              "      <td>6</td>\n",
              "      <td>4 0 0 0 0 0 0 0 0 0 0 0 3 15 23 28 48 50 58 84...</td>\n",
              "      <td>Training</td>\n",
              "    </tr>\n",
              "  </tbody>\n",
              "</table>\n",
              "</div>"
            ],
            "text/plain": [
              "   emotion                                             pixels     Usage\n",
              "0        0  70 80 82 72 58 58 60 63 54 58 60 48 89 115 121...  Training\n",
              "1        0  151 150 147 155 148 133 111 140 170 174 182 15...  Training\n",
              "2        2  231 212 156 164 174 138 161 173 182 200 106 38...  Training\n",
              "3        4  24 32 36 30 32 23 19 20 30 41 21 22 32 34 21 1...  Training\n",
              "4        6  4 0 0 0 0 0 0 0 0 0 0 0 3 15 23 28 48 50 58 84...  Training"
            ]
          },
          "execution_count": 4,
          "metadata": {},
          "output_type": "execute_result"
        }
      ],
      "source": [
        "\n",
        "df = pd.read_csv(r\"E:\\8th Sem\\TARP\\MRS\\fer2013.csv\")\n",
        "print(df.shape)\n",
        "df.head()"
      ]
    },
    {
      "cell_type": "code",
      "execution_count": 5,
      "metadata": {
        "id": "CGkqGIk0e-X-"
      },
      "outputs": [],
      "source": [
        "emotion_label_to_text = {0:'anger', 1:'disgust', 2:'fear', 3:'happiness', 4: 'sadness', 5: 'surprise', 6: 'neutral'}"
      ]
    },
    {
      "cell_type": "code",
      "execution_count": 6,
      "metadata": {
        "id": "EquAPUdke-Yq"
      },
      "outputs": [],
      "source": [
        "INTERESTED_LABELS = [3, 4]\n",
        "df = df[df.emotion.isin(INTERESTED_LABELS)]"
      ]
    },
    {
      "cell_type": "code",
      "execution_count": 7,
      "metadata": {
        "id": "WPbMpEyoe-ZB"
      },
      "outputs": [],
      "source": [
        "img_array = df.pixels.apply(lambda x: np.array(x.split(' ')).reshape(48, 48, 1).astype('float32'))\n",
        "img_array = np.stack(img_array, axis=0)"
      ]
    },
    {
      "cell_type": "code",
      "execution_count": null,
      "metadata": {
        "id": "LVZ_fcJ8lcrN"
      },
      "outputs": [],
      "source": []
    },
    {
      "cell_type": "code",
      "execution_count": 8,
      "metadata": {
        "colab": {
          "base_uri": "https://localhost:8080/",
          "height": 34
        },
        "id": "oIvYcM8ue-ZZ",
        "outputId": "c7944e2f-99e3-4bde-a2ba-675b8684546e"
      },
      "outputs": [
        {
          "data": {
            "text/plain": [
              "(15066, 2)"
            ]
          },
          "execution_count": 8,
          "metadata": {},
          "output_type": "execute_result"
        }
      ],
      "source": [
        "le = LabelEncoder()\n",
        "img_labels = le.fit_transform(df['emotion'])\n",
        "img_labels = np_utils.to_categorical(img_labels)\n",
        "img_labels.shape"
      ]
    },
    {
      "cell_type": "code",
      "execution_count": 9,
      "metadata": {
        "colab": {
          "base_uri": "https://localhost:8080/",
          "height": 34
        },
        "id": "TqnAa2v_e-Z5",
        "outputId": "c68fd249-f1ad-415c-f0ee-2869ab36d1e8"
      },
      "outputs": [
        {
          "name": "stdout",
          "output_type": "stream",
          "text": [
            "{3: 0, 4: 1}\n"
          ]
        }
      ],
      "source": [
        "le_name_mapping = dict(zip(le.classes_, le.transform(le.classes_)))\n",
        "print(le_name_mapping)"
      ]
    },
    {
      "cell_type": "code",
      "execution_count": 10,
      "metadata": {
        "colab": {
          "base_uri": "https://localhost:8080/",
          "height": 34
        },
        "id": "6rZH3dgde-aV",
        "outputId": "0744f212-5043-436b-df58-c3890e8e702c"
      },
      "outputs": [
        {
          "data": {
            "text/plain": [
              "((12052, 48, 48, 1), (3014, 48, 48, 1), (12052, 2), (3014, 2))"
            ]
          },
          "execution_count": 10,
          "metadata": {},
          "output_type": "execute_result"
        }
      ],
      "source": [
        "X_train, X_test, y_train, y_test = train_test_split(img_array, img_labels,\n",
        "                                                    shuffle=True, stratify=img_labels,\n",
        "                                                    test_size=0.2, random_state=42)\n",
        "X_train.shape, X_test.shape, y_train.shape, y_test.shape"
      ]
    },
    {
      "cell_type": "code",
      "execution_count": 11,
      "metadata": {
        "id": "dSwptfn2e-ad"
      },
      "outputs": [],
      "source": [
        "img_width = X_train.shape[1]\n",
        "img_height = X_train.shape[2]\n",
        "img_depth = X_train.shape[3]\n",
        "num_classes = y_train.shape[1]"
      ]
    },
    {
      "cell_type": "code",
      "execution_count": 12,
      "metadata": {
        "id": "msZ6Cw2ae-bF"
      },
      "outputs": [],
      "source": [
        "X_train = X_train / 255.\n",
        "X_test = X_test / 255."
      ]
    },
    {
      "cell_type": "code",
      "execution_count": 13,
      "metadata": {
        "id": "vpoPpCL-e-bR"
      },
      "outputs": [],
      "source": [
        "def build_net(optim):\n",
        "            net = Sequential(name='DCNN')\n",
        "\n",
        "            net.add(Conv2D(filters=256,kernel_size=(5,5),input_shape=(img_width, img_height, img_depth),activation='elu',\n",
        "                           padding='same',kernel_initializer='he_normal', name='conv2d_1'))\n",
        "            net.add(BatchNormalization(name='batchnorm_1'))\n",
        "            net.add(Conv2D(filters=128,kernel_size=(5,5),activation='elu',padding='same',kernel_initializer='he_normal',\n",
        "                        name='conv2d_2'))\n",
        "            net.add(BatchNormalization(name='batchnorm_2'))\n",
        "            net.add(MaxPooling2D(pool_size=(2,2), name='maxpool2d_1'))\n",
        "            net.add(Dropout(0.4, name='dropout_1'))\n",
        "            net.add(Conv2D(filters=128,kernel_size=(3,3),activation='elu',padding='same',kernel_initializer='he_normal',\n",
        "                        name='conv2d_3'))\n",
        "            net.add(BatchNormalization(name='batchnorm_3'))\n",
        "            net.add(Conv2D(filters=128,kernel_size=(3,3),activation='elu',padding='same',kernel_initializer='he_normal',\n",
        "                        name='conv2d_4'))\n",
        "            net.add(BatchNormalization(name='batchnorm_4'))\n",
        "            net.add(MaxPooling2D(pool_size=(2,2), name='maxpool2d_2'))\n",
        "            net.add(Dropout(0.4, name='dropout_2'))\n",
        "            net.add(Conv2D(filters=256,kernel_size=(3,3),activation='elu',padding='same',kernel_initializer='he_normal',\n",
        "                        name='conv2d_5'))\n",
        "            net.add(BatchNormalization(name='batchnorm_5'))\n",
        "            net.add(Conv2D(filters=256,kernel_size=(3,3),activation='elu',padding='same',kernel_initializer='he_normal',\n",
        "                        name='conv2d_6'))\n",
        "            net.add(BatchNormalization(name='batchnorm_6'))\n",
        "            net.add(MaxPooling2D(pool_size=(2,2), name='maxpool2d_3'))\n",
        "            net.add(Dropout(0.5, name='dropout_3'))\n",
        "            net.add(Flatten(name='flatten'))\n",
        "            net.add(Dense(128,activation='elu',kernel_initializer='he_normal',name='dense_1'))\n",
        "            net.add(BatchNormalization(name='batchnorm_7'))\n",
        "            net.add(Dropout(0.6, name='dropout_4'))\n",
        "            net.add(Dense(num_classes,activation='softmax',name='out_layer'))\n",
        "\n",
        "            net.compile(loss='binary_crossentropy',optimizer='adam',metrics=['accuracy'])\n",
        "\n",
        "            net.summary()\n",
        "            \n",
        "            return net\n",
        "\n"
      ]
    },
    {
      "cell_type": "code",
      "execution_count": 14,
      "metadata": {
        "id": "ZxWGDBnse-bk"
      },
      "outputs": [],
      "source": [
        "\n",
        "early_stopping = EarlyStopping(monitor='val_accuracy',min_delta=0.00005,patience=10,verbose=1,\n",
        "    restore_best_weights=True)\n",
        "\n",
        "lr_scheduler = ReduceLROnPlateau(monitor='val_accuracy',factor=0.5,patience=7,min_lr=1e-7,verbose=1)\n",
        "\n",
        "callbacks = [early_stopping,lr_scheduler]"
      ]
    },
    {
      "cell_type": "code",
      "execution_count": 15,
      "metadata": {
        "id": "-6lpLGhSe-cE"
      },
      "outputs": [],
      "source": [
        "train_datagen = ImageDataGenerator(rotation_range=15,width_shift_range=0.15,height_shift_range=0.15,\n",
        "    shear_range=0.15,zoom_range=0.15,horizontal_flip=True)\n",
        "train_datagen.fit(X_train)"
      ]
    },
    {
      "cell_type": "code",
      "execution_count": 16,
      "metadata": {
        "colab": {
          "base_uri": "https://localhost:8080/",
          "height": 1000
        },
        "id": "ImQK8ygNe-cL",
        "outputId": "f22e45cc-0c29-49d2-de26-284fee2ed5aa"
      },
      "outputs": [
        {
          "name": "stdout",
          "output_type": "stream",
          "text": [
            "Model: \"DCNN\"\n",
            "_________________________________________________________________\n",
            " Layer (type)                Output Shape              Param #   \n",
            "=================================================================\n",
            " conv2d_1 (Conv2D)           (None, 48, 48, 256)       6656      \n",
            "                                                                 \n",
            " batchnorm_1 (BatchNormaliza  (None, 48, 48, 256)      1024      \n",
            " tion)                                                           \n",
            "                                                                 \n",
            " conv2d_2 (Conv2D)           (None, 48, 48, 128)       819328    \n",
            "                                                                 \n",
            " batchnorm_2 (BatchNormaliza  (None, 48, 48, 128)      512       \n",
            " tion)                                                           \n",
            "                                                                 \n",
            " maxpool2d_1 (MaxPooling2D)  (None, 24, 24, 128)       0         \n",
            "                                                                 \n",
            " dropout_1 (Dropout)         (None, 24, 24, 128)       0         \n",
            "                                                                 \n",
            " conv2d_3 (Conv2D)           (None, 24, 24, 128)       147584    \n",
            "                                                                 \n",
            " batchnorm_3 (BatchNormaliza  (None, 24, 24, 128)      512       \n",
            " tion)                                                           \n",
            "                                                                 \n",
            " conv2d_4 (Conv2D)           (None, 24, 24, 128)       147584    \n",
            "                                                                 \n",
            " batchnorm_4 (BatchNormaliza  (None, 24, 24, 128)      512       \n",
            " tion)                                                           \n",
            "                                                                 \n",
            " maxpool2d_2 (MaxPooling2D)  (None, 12, 12, 128)       0         \n",
            "                                                                 \n",
            " dropout_2 (Dropout)         (None, 12, 12, 128)       0         \n",
            "                                                                 \n",
            " conv2d_5 (Conv2D)           (None, 12, 12, 256)       295168    \n",
            "                                                                 \n",
            " batchnorm_5 (BatchNormaliza  (None, 12, 12, 256)      1024      \n",
            " tion)                                                           \n",
            "                                                                 \n",
            " conv2d_6 (Conv2D)           (None, 12, 12, 256)       590080    \n",
            "                                                                 \n",
            " batchnorm_6 (BatchNormaliza  (None, 12, 12, 256)      1024      \n",
            " tion)                                                           \n",
            "                                                                 \n",
            " maxpool2d_3 (MaxPooling2D)  (None, 6, 6, 256)         0         \n",
            "                                                                 \n",
            " dropout_3 (Dropout)         (None, 6, 6, 256)         0         \n",
            "                                                                 \n",
            " flatten (Flatten)           (None, 9216)              0         \n",
            "                                                                 \n",
            " dense_1 (Dense)             (None, 128)               1179776   \n",
            "                                                                 \n",
            " batchnorm_7 (BatchNormaliza  (None, 128)              512       \n",
            " tion)                                                           \n",
            "                                                                 \n",
            " dropout_4 (Dropout)         (None, 128)               0         \n",
            "                                                                 \n",
            " out_layer (Dense)           (None, 2)                 258       \n",
            "                                                                 \n",
            "=================================================================\n",
            "Total params: 3,191,554\n",
            "Trainable params: 3,188,994\n",
            "Non-trainable params: 2,560\n",
            "_________________________________________________________________\n",
            "Epoch 1/2\n",
            "188/188 [==============================] - 1713s 9s/step - loss: 0.8335 - accuracy: 0.5834 - val_loss: 0.6871 - val_accuracy: 0.6387 - lr: 0.0010\n",
            "Epoch 2/2\n",
            "188/188 [==============================] - 1879s 10s/step - loss: 0.6946 - accuracy: 0.6277 - val_loss: 0.6133 - val_accuracy: 0.6583 - lr: 0.0010\n"
          ]
        }
      ],
      "source": [
        "batch_size = 64 \n",
        "epochs = 2\n",
        "optims = [optimizers.Nadam(learning_rate=0.001, beta_1=0.9, beta_2=0.999, epsilon=1e-07, name='Nadam')\n",
        "          ,optimizers.Adam(0.001)]\n",
        "\n",
        "model = build_net(optims[1]) \n",
        "history = model.fit(train_datagen.flow(X_train, y_train, batch_size=batch_size),validation_data=(X_test, y_test),\n",
        "    steps_per_epoch=len(X_train) / batch_size,epochs=epochs,callbacks=callbacks)"
      ]
    },
    {
      "cell_type": "code",
      "execution_count": 17,
      "metadata": {
        "id": "CNmntmKve-cS"
      },
      "outputs": [],
      "source": [
        "model.save(\"final_model.h5\")"
      ]
    }
  ],
  "metadata": {
    "accelerator": "GPU",
    "colab": {
      "collapsed_sections": [],
      "name": "First Emotion detector version2.ipynb",
      "provenance": []
    },
    "kernelspec": {
      "display_name": "Python 3",
      "language": "python",
      "name": "python3"
    },
    "language_info": {
      "codemirror_mode": {
        "name": "ipython",
        "version": 3
      },
      "file_extension": ".py",
      "mimetype": "text/x-python",
      "name": "python",
      "nbconvert_exporter": "python",
      "pygments_lexer": "ipython3",
      "version": "3.10.2"
    },
    "vscode": {
      "interpreter": {
        "hash": "5e1b8ce45fe6aa63b4dcb7216690f8adbb6a01965b8fe1fc5483cd9f8664c227"
      }
    }
  },
  "nbformat": 4,
  "nbformat_minor": 0
}
